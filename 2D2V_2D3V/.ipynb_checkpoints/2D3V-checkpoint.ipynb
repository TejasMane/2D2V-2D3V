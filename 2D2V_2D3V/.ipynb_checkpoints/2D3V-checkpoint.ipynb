{
 "cells": [
  {
   "cell_type": "code",
   "execution_count": 1,
   "metadata": {
    "collapsed": true
   },
   "outputs": [],
   "source": [
    "import numpy as np\n",
    "import h5py\n",
    "import pylab as pl\n",
    "import arrayfire as af\n",
    "from scipy.fftpack import fftfreq\n",
    "from numpy.fft import fft2, ifft2\n",
    "import params"
   ]
  },
  {
   "cell_type": "code",
   "execution_count": 2,
   "metadata": {
    "collapsed": false
   },
   "outputs": [],
   "source": [
    "# Importing all the functions\n",
    "from three_v.helper import set_up_perturbation\n",
    "from three_v.charge_deposition import cloud_charge_deposition\n",
    "from three_v.charge_deposition import charge_b1_depositor\n",
    "from three_v.charge_deposition import norm_background_ions\n",
    "from three_v.charge_deposition import periodic_ghost\n",
    "from three_v.boris import periodic_particles\n",
    "from three_v.interpolation import fraction_finder\n",
    "from three_v.boris import Boris\n",
    "from three_v.current_deposition import Umeda_2003\n",
    "from three_v.current_deposition import current_norm_BC_Jx\n",
    "from three_v.current_deposition import current_norm_BC_Jy\n",
    "from three_v.current_deposition import current_norm_BC_Jz\n",
    "from three_v.fft import fft_poisson\n",
    "from three_v.fields import fdtd"
   ]
  },
  {
   "cell_type": "code",
   "execution_count": 3,
   "metadata": {
    "collapsed": true
   },
   "outputs": [],
   "source": [
    "pl.rcParams['figure.figsize']  = 12, 7.5\n",
    "pl.rcParams['lines.linewidth'] = 1.5\n",
    "pl.rcParams['font.family']     = 'serif'\n",
    "pl.rcParams['font.weight']     = 'bold'\n",
    "pl.rcParams['font.size']       = 20\n",
    "pl.rcParams['font.sans-serif'] = 'serif'\n",
    "pl.rcParams['text.usetex']     = True\n",
    "pl.rcParams['axes.linewidth']  = 1.5\n",
    "pl.rcParams['axes.titlesize']  = 'medium'\n",
    "pl.rcParams['axes.labelsize']  = 'medium'\n",
    "\n",
    "pl.rcParams['xtick.major.size'] = 8\n",
    "pl.rcParams['xtick.minor.size'] = 4\n",
    "pl.rcParams['xtick.major.pad']  = 8\n",
    "pl.rcParams['xtick.minor.pad']  = 8\n",
    "pl.rcParams['xtick.color']      = 'k'\n",
    "pl.rcParams['xtick.labelsize']  = 'medium'\n",
    "pl.rcParams['xtick.direction']  = 'in'\n",
    "\n",
    "pl.rcParams['ytick.major.size'] = 8\n",
    "pl.rcParams['ytick.minor.size'] = 4\n",
    "pl.rcParams['ytick.major.pad']  = 8\n",
    "pl.rcParams['ytick.minor.pad']  = 8\n",
    "pl.rcParams['ytick.color']      = 'k'\n",
    "pl.rcParams['ytick.labelsize']  = 'medium'\n",
    "pl.rcParams['ytick.direction']  = 'in'"
   ]
  },
  {
   "cell_type": "markdown",
   "metadata": {},
   "source": [
    "Using Computational particles\n",
    "\\begin{align}\n",
    "q_{p} = w_{p}q \\\\\n",
    "m_{p} = w_{p}m \\\\\n",
    "\\end{align}\n",
    "where $q_{p}$ and $m_{p} $is the charge of the macro particle and mass of the macro particle respectively"
   ]
  },
  {
   "cell_type": "code",
   "execution_count": 4,
   "metadata": {
    "collapsed": false
   },
   "outputs": [],
   "source": [
    "# Weighting factor w_p = number of electrons composing the macro particle\n",
    "# Doesn't affect the the physics of the system \n",
    "# (Coarse graining doesn't affect vlasov maxwell system)\n",
    "# It should be kept such that the number density in the PIC code corresponds\n",
    "# to the densities found in real plasmas\n",
    "w_p             = params.w_p"
   ]
  },
  {
   "cell_type": "code",
   "execution_count": 5,
   "metadata": {
    "collapsed": true
   },
   "outputs": [],
   "source": [
    "# Macro Particle parameters\n",
    "k_boltzmann     = params.k_boltzmann\n",
    "mass_electron   = params.mass_electron\n",
    "tempertature    = params.tempertature\n",
    "charge_electron = params.charge_electron\n",
    "charge_ion      = params.charge_ion"
   ]
  },
  {
   "cell_type": "code",
   "execution_count": 6,
   "metadata": {
    "collapsed": true
   },
   "outputs": [],
   "source": [
    "# Setting the length of the domain\n",
    "length_domain_x = params.length_domain_x\n",
    "length_domain_y = params.length_domain_y\n",
    "length_domain_z = params.length_domain_z"
   ]
  },
  {
   "cell_type": "code",
   "execution_count": 7,
   "metadata": {
    "collapsed": true
   },
   "outputs": [],
   "source": [
    "# Setting the number of ghost cells\n",
    "ghost_cells  = params.ghost_cells"
   ]
  },
  {
   "cell_type": "code",
   "execution_count": 8,
   "metadata": {
    "collapsed": true
   },
   "outputs": [],
   "source": [
    "# Setting number of particle in the domain\n",
    "number_of_electrons = params.number_of_electrons"
   ]
  },
  {
   "cell_type": "code",
   "execution_count": 9,
   "metadata": {
    "collapsed": true
   },
   "outputs": [],
   "source": [
    "# Initializing the positions and velocities of the particles\n",
    "positions_x = length_domain_x * np.random.rand(number_of_electrons)\n",
    "positions_y = length_domain_y * np.random.rand(number_of_electrons)\n",
    "positions_z = length_domain_z * np.random.rand(number_of_electrons)"
   ]
  },
  {
   "cell_type": "code",
   "execution_count": 10,
   "metadata": {
    "collapsed": true
   },
   "outputs": [],
   "source": [
    "# setting the mean and standard deviation of the maxwell distribution\n",
    "# Thermal/mean velocity of macro particles should correspond to\n",
    "# that of individual electrons in the plasma\n",
    "mu_x, sigma_x = 0, (k_boltzmann * tempertature / (mass_electron / w_p))\n",
    "mu_y, sigma_y = 0, (k_boltzmann * tempertature / (mass_electron / w_p))\n",
    "mu_z, sigma_z = 0, (k_boltzmann * tempertature / (mass_electron / w_p))\n",
    "\n",
    "# Initializing the velocitites according to the maxwell distribution\n",
    "velocity_x = np.random.normal(mu_x, sigma_x, number_of_electrons)\n",
    "velocity_y = np.random.normal(mu_y, sigma_y, number_of_electrons)\n",
    "velocity_z = np.random.normal(mu_z, sigma_z, number_of_electrons)"
   ]
  },
  {
   "cell_type": "code",
   "execution_count": 11,
   "metadata": {
    "collapsed": true
   },
   "outputs": [],
   "source": [
    "# Divisions in x grid\n",
    "divisions_domain_x = params.divisions_domain_x\n",
    "divisions_domain_y = params.divisions_domain_y\n",
    "\n",
    "# dx, dy is the distance between consecutive grid nodes along x and y\n",
    "dx = length_domain_x / divisions_domain_x\n",
    "dy = length_domain_y / divisions_domain_y"
   ]
  },
  {
   "cell_type": "code",
   "execution_count": 12,
   "metadata": {
    "collapsed": true
   },
   "outputs": [],
   "source": [
    "# initializing the x grid\n",
    "x_grid = np.linspace(    0 - ghost_cells * dx,\\\n",
    "                         length_domain_x + ghost_cells * dx, \\\n",
    "                         divisions_domain_x + 1 + 2 * ghost_cells,\\\n",
    "                         endpoint=True,\\\n",
    "                         dtype = np.double\\\n",
    "                    )\n",
    "\n",
    "\n",
    "x_right = x_grid + dx/2\n",
    "\n",
    "# initializing the y grid\n",
    "y_grid = np.linspace(    0 - ghost_cells * dy,\\\n",
    "                         length_domain_y + ghost_cells * dy, \\\n",
    "                         divisions_domain_y + 1 + 2 * ghost_cells,\\\n",
    "                         endpoint=True,\\\n",
    "                         dtype = np.double\\\n",
    "                    )\n",
    "\n",
    "y_top  = y_grid + dy/2"
   ]
  },
  {
   "cell_type": "code",
   "execution_count": 13,
   "metadata": {
    "collapsed": true
   },
   "outputs": [],
   "source": [
    "# Setting the amplitude for perturbation\n",
    "N_divisions_x         = divisions_domain_x\n",
    "N_divisions_y         = divisions_domain_y\n",
    "amplitude_perturbed   = params.amplitude_perturbed\n",
    "k_x                   = params.k_x\n",
    "k_y                   = params.k_y\n",
    "\n",
    "# Initializing the perturbation\n",
    "positions_x, positions_y   = set_up_perturbation(     positions_x,\\\n",
    "                                                      positions_y,\\\n",
    "                                                      number_of_electrons,\\\n",
    "                                                      N_divisions_x,\\\n",
    "                                                      N_divisions_y,\\\n",
    "                                                      amplitude_perturbed,\\\n",
    "                                                      k_x,\\\n",
    "                                                      k_y,\\\n",
    "                                                      length_domain_x,\\\n",
    "                                                      length_domain_y,\\\n",
    "                                                      dx,\\\n",
    "                                                      dy\\\n",
    "                                                 )\n",
    "\n",
    "# For 1D simulation:\n",
    "# positions_y = length_domain_y * np.random.rand(number_of_electrons)\n",
    "# positions_z = length_domain_z * np.random.rand(number_of_electrons)\n",
    "# velocity_y  = np.zeros(number_of_electrons)\n",
    "# velocity_z  = np.zeros(number_of_electrons)"
   ]
  },
  {
   "cell_type": "code",
   "execution_count": 14,
   "metadata": {
    "collapsed": false
   },
   "outputs": [],
   "source": [
    "# Converting to arrayfire arrays\n",
    "positions_x  = af.to_array(positions_x)\n",
    "positions_y  = af.to_array(positions_y)\n",
    "positions_z  = af.to_array(positions_z)\n",
    "\n",
    "velocity_x   = af.to_array(velocity_x)\n",
    "velocity_y   = af.to_array(velocity_y)\n",
    "velocity_z   = af.to_array(velocity_z)\n",
    "\n",
    "x_grid       = af.to_array(x_grid)\n",
    "y_grid       = af.to_array(y_grid)\n",
    "x_right      = af.to_array(x_right)\n",
    "y_top        = af.to_array(y_top)"
   ]
  },
  {
   "cell_type": "code",
   "execution_count": 15,
   "metadata": {
    "collapsed": true
   },
   "outputs": [],
   "source": [
    "# Plotting the initial density perturbation\n",
    "\n",
    "position_grid   = np.linspace(0, 1, N_divisions_x)\n",
    "number_electrons_in_bins, b  = np.histogram(np.array(positions_x),\\\n",
    "                                                 bins=(100),\\\n",
    "                                                 range = (0, length_domain_x)\n",
    "                                               )\n",
    "\n",
    "number_density     = (number_electrons_in_bins / (number_of_electrons / (divisions_domain_x)))"
   ]
  },
  {
   "cell_type": "code",
   "execution_count": 16,
   "metadata": {
    "collapsed": false
   },
   "outputs": [
    {
     "data": {
      "image/png": "[encoded data removed]",
      "text/plain": [
       "<matplotlib.figure.Figure at 0x7f4a4c0e5080>"
      ]
     },
     "metadata": {},
     "output_type": "display_data"
    }
   ],
   "source": [
    "# # Plotting the initial density perturbation\n",
    "pl.plot(number_density, label = r'$n$')\n",
    "pl.title(r'$\\mathrm{Initial\\;density\\;perturbation}$')\n",
    "pl.xlabel('$x$')\n",
    "pl.ylabel(r'$n_{electrons}(x)$')\n",
    "pl.show()\n",
    "pl.clf()"
   ]
  },
  {
   "cell_type": "code",
   "execution_count": 17,
   "metadata": {
    "collapsed": true
   },
   "outputs": [],
   "source": [
    "# Time parameters\n",
    "start_time = 0\n",
    "\n",
    "end_time   = 0.1\n",
    "\n",
    "dt         = 0.002\n",
    "\n",
    "time       = np.arange(    start_time,\\\n",
    "                           end_time + dt,\\\n",
    "                           dt,\\\n",
    "                           dtype = np.double\\\n",
    "                      )"
   ]
  },
  {
   "cell_type": "code",
   "execution_count": 18,
   "metadata": {
    "collapsed": true
   },
   "outputs": [],
   "source": [
    "# Some variables for storing data\n",
    "Ex_max       = np.zeros(len(time), dtype = np.double)\n",
    "Ey_max       = np.zeros(len(time), dtype = np.double)"
   ]
  },
  {
   "cell_type": "code",
   "execution_count": 19,
   "metadata": {
    "collapsed": true
   },
   "outputs": [],
   "source": [
    "# Charge deposition using linear weighting scheme\n",
    "\n",
    "rho_electrons  = cloud_charge_deposition(charge_electron,\\\n",
    "                            number_of_electrons,\\\n",
    "                            positions_x,\\\n",
    "                            positions_y,\\\n",
    "                            x_grid,\\\n",
    "                            y_grid,\\\n",
    "                            charge_b1_depositor,\\\n",
    "                            ghost_cells,\\\n",
    "                            length_domain_x,\\\n",
    "                            length_domain_y,\\\n",
    "                            dx,\\\n",
    "                            dy\\\n",
    "                           )\n",
    "rho_initial    = norm_background_ions(rho_electrons, number_of_electrons, w_p, charge_electron)"
   ]
  },
  {
   "cell_type": "code",
   "execution_count": 20,
   "metadata": {
    "collapsed": false
   },
   "outputs": [
    {
     "data": {
      "image/png": "[encoded data removed]",
      "text/plain": [
       "<matplotlib.figure.Figure at 0x7f4a4c0e5240>"
      ]
     },
     "metadata": {},
     "output_type": "display_data"
    }
   ],
   "source": [
    "# # plotting intial rho in the system considering background ions\n",
    "pl.contourf(np.array(x_grid), np.array(y_grid), np.array(rho_electrons), 100)\n",
    "pl.show()"
   ]
  },
  {
   "cell_type": "code",
   "execution_count": 21,
   "metadata": {
    "collapsed": true
   },
   "outputs": [],
   "source": [
    "# Computing the initial electric fields Ex and Ey\n",
    "Ex_initial_centered = af.data.constant(0, y_grid.elements(),\\\n",
    "                                       x_grid.elements(),\\\n",
    "                                       dtype = af.Dtype.f64\\\n",
    "                                      )\n",
    "\n",
    "Ey_initial_centered = af.data.constant(0, y_grid.elements(),\\\n",
    "                                       x_grid.elements(),\\\n",
    "                                       dtype = af.Dtype.f64\\\n",
    "                                      )"
   ]
  },
  {
   "cell_type": "code",
   "execution_count": 22,
   "metadata": {
    "collapsed": false
   },
   "outputs": [
    {
     "name": "stdout",
     "output_type": "stream",
     "text": [
      "rho.dims() is  (2, 101)\n"
     ]
    }
   ],
   "source": [
    "rho_physical = rho_initial[ghost_cells:-ghost_cells,\\\n",
    "                           ghost_cells:-ghost_cells\\\n",
    "                          ].copy()\n",
    "\n",
    "Ex_temp, Ey_temp = fft_poisson(rho_physical, dx, dy)\n",
    "\n",
    "Ex_initial_centered[ghost_cells:-ghost_cells\\\n",
    "                    ,ghost_cells:-ghost_cells\\\n",
    "                   ]                           = Ex_temp.copy()\n",
    "\n",
    "Ey_initial_centered[ghost_cells:-ghost_cells\\\n",
    "                    ,ghost_cells:-ghost_cells\\\n",
    "                   ]                           = Ey_temp.copy()\n",
    "\n",
    "Ex_initial_centered = periodic_ghost(Ex_initial_centered, ghost_cells)\n",
    "Ey_initial_centered = periodic_ghost(Ey_initial_centered, ghost_cells)"
   ]
  },
  {
   "cell_type": "code",
   "execution_count": 23,
   "metadata": {
    "collapsed": false
   },
   "outputs": [],
   "source": [
    "# Bringing Ex_initial_centered, Ey_initial_centered to Yee grid\n",
    "Ex_initial_Yee = 0.5 * (Ex_initial_centered \\\n",
    "                        + af.shift(Ex_initial_centered, 0, -1)\\\n",
    "                       )\n",
    "\n",
    "Ex_initial_Yee = periodic_ghost(Ex_initial_Yee, ghost_cells)\n",
    "\n",
    "Ey_initial_Yee = 0.5 * (Ey_initial_centered \\\n",
    "                        + af.shift(Ey_initial_centered, -1, 0)\\\n",
    "                       )\n",
    "\n",
    "Ey_initial_Yee = periodic_ghost(Ey_initial_Yee, ghost_cells)"
   ]
  },
  {
   "cell_type": "markdown",
   "metadata": {},
   "source": [
    "The following cell block determines $v(\\frac{\\Delta t}{2})$:\n",
    "\\begin{align}\n",
    "v(\\frac{\\Delta t}{2}) = v(t = 0) + E_{x}\\left(x(\\frac{\\Delta t}{2})\\right)\\frac{\\Delta t}{2}\n",
    "\\end{align}"
   ]
  },
  {
   "cell_type": "code",
   "execution_count": 24,
   "metadata": {
    "collapsed": true
   },
   "outputs": [],
   "source": [
    "Ez_initial_Yee = 0 * Ex_initial_Yee.copy()\n",
    "Bx_initial_Yee = 0 * Ex_initial_Yee.copy()\n",
    "By_initial_Yee = 0 * Ex_initial_Yee.copy()\n",
    "Bz_initial_Yee = 0 * Ex_initial_Yee.copy()"
   ]
  },
  {
   "cell_type": "code",
   "execution_count": 25,
   "metadata": {
    "collapsed": false
   },
   "outputs": [],
   "source": [
    "# This cell block is to obtain v at (t = 0.5dt) to implement the verlet algorithm.\n",
    "\n",
    "positions_x_half = positions_x + velocity_x * dt/2\n",
    "positions_y_half = positions_y + velocity_y * dt/2\n",
    "\n",
    "# Periodic Boundary conditions for particles \n",
    "\n",
    "positions_x_half, positions_y_half,\n",
    "positions_z_half                    =  periodic_particles(positions_x, positions_y,\\\n",
    "                                                          positions_z, length_domain_x,\\\n",
    "                                                          length_domain_y, length_domain_z\\\n",
    "                                                         )\n",
    "\n",
    "# Finding interpolant fractions for the positions\n",
    "\n",
    "fracs_Ex_x, fracs_Ex_y = fraction_finder(positions_x_half,\\\n",
    "                                         positions_y_half,\\\n",
    "                                         x_right, y_grid,\\\n",
    "                                         dx, dy\\\n",
    "                                        )\n",
    "\n",
    "fracs_Ey_x, fracs_Ey_y = fraction_finder(positions_x_half,\\\n",
    "                                         positions_y_half,\\\n",
    "                                         x_grid, y_top,\\\n",
    "                                         dx, dy\\\n",
    "                                        )\n",
    "\n",
    "fracs_Ez_x, fracs_Ez_y = fraction_finder(positions_x_half,\\\n",
    "                                         positions_y_half,\\\n",
    "                                         x_grid, y_grid,\\\n",
    "                                         dx, dy\\\n",
    "                                        )\n",
    "\n",
    "fracs_Bx_x, fracs_Bx_y = fraction_finder(positions_x_half,\\\n",
    "                                         positions_y_half,\\\n",
    "                                         x_grid, y_top,\\\n",
    "                                         dx, dy\\\n",
    "                                        )\n",
    "\n",
    "fracs_By_x, fracs_By_y = fraction_finder(positions_x_half,\\\n",
    "                                         positions_y_half,\\\n",
    "                                         x_right, y_grid,\\\n",
    "                                         dx, dy\\\n",
    "                                        )\n",
    "\n",
    "fracs_Bz_x, fracs_Bz_y = fraction_finder(positions_x_half,\\\n",
    "                                         positions_y_half,\\\n",
    "                                         x_right, y_top,\\\n",
    "                                         dx, dy\\\n",
    "                                        )\n",
    "    \n",
    "    \n",
    "# Interpolating the fields at each particle\n",
    "\n",
    "Ex_particle = af.signal.approx2(Ex_initial_Yee, fracs_Ex_y, fracs_Ex_x)\n",
    "\n",
    "Ey_particle = af.signal.approx2(Ey_initial_Yee, fracs_Ey_y, fracs_Ey_x)\n",
    "\n",
    "Ez_particle = af.signal.approx2(Ez_initial_Yee, fracs_Ez_y, fracs_Ez_x)\n",
    "\n",
    "Bx_particle = af.signal.approx2(Bx_initial_Yee, fracs_Bx_y, fracs_Bx_x)\n",
    "\n",
    "By_particle = af.signal.approx2(By_initial_Yee, fracs_By_y, fracs_By_x)\n",
    "\n",
    "Bz_particle = af.signal.approx2(Bz_initial_Yee, fracs_Bz_y, fracs_Bz_x)\n",
    "\n",
    "# Updating the velocity using the interpolated Electric fields to find v at (t = 0.5dt)\n",
    "\n",
    "velocity_x, velocity_y,\\\n",
    "velocity_z                   = Boris(mass_electron, charge_electron,\\\n",
    "                                     velocity_x, velocity_y,\\\n",
    "                                     velocity_z, dt/2, Ex_particle,\\\n",
    "                                     Ey_particle, Ez_particle, Bx_particle,\\\n",
    "                                     By_particle, Bz_particle\\\n",
    "                                    )"
   ]
  },
  {
   "cell_type": "code",
   "execution_count": 26,
   "metadata": {
    "collapsed": false
   },
   "outputs": [],
   "source": [
    "# Ex, Ey, Ez at t = 0 * dt, Bx, By, Bz at (t = n+1/2) * dt \n",
    "Ex = Ex_initial_Yee.copy()\n",
    "Ey = Ey_initial_Yee.copy()\n",
    "Ez = Ez_initial_Yee.copy()\n",
    "Bx = Bx_initial_Yee.copy()\n",
    "By = By_initial_Yee.copy()\n",
    "Bz = Bz_initial_Yee.copy()"
   ]
  },
  {
   "cell_type": "code",
   "execution_count": 27,
   "metadata": {
    "collapsed": false
   },
   "outputs": [
    {
     "data": {
      "image/png": "[encoded data removed]",
      "text/plain": [
       "<matplotlib.figure.Figure at 0x7f4a2814dc88>"
      ]
     },
     "metadata": {},
     "output_type": "display_data"
    }
   ],
   "source": [
    "pl.subplot(121)\n",
    "pl.contourf(np.array(x_right), np.array(y_grid), np.array(Ex))\n",
    "pl.xlabel('$x$')\n",
    "pl.ylabel('$y$')\n",
    "pl.title('$E_x$')\n",
    "\n",
    "pl.subplot(122)\n",
    "pl.contourf(np.array(x_grid), np.array(y_top), np.array(Ey))\n",
    "pl.xlabel('$x$')\n",
    "pl.ylabel('$y$')\n",
    "pl.title('$E_y$')\n",
    "\n",
    "pl.show()"
   ]
  },
  {
   "cell_type": "code",
   "execution_count": null,
   "metadata": {
    "collapsed": false
   },
   "outputs": [
    {
     "name": "stdout",
     "output_type": "stream",
     "text": [
      "Computing for time =  0.0\n",
      "Computing for time =  0.05\n",
      "Computing for time =  0.1\n"
     ]
    }
   ],
   "source": [
    "for time_index in range(len(time)):\n",
    "    if(time_index%25 ==0):\n",
    "        print('Computing for time = ', time_index * dt)\n",
    "\n",
    "    # Updating the positions of particle using the velocites (Verlet algorithm)\n",
    "    # velocity at t = (n + 1/2) dt, positions_x at t = (n)dt and positions_x_new\n",
    "    # at t = (n+1)dt\n",
    "    positions_x_new = positions_x + velocity_x * dt\n",
    "    positions_y_new = positions_y + velocity_y * dt\n",
    "    positions_z_new = positions_z + velocity_z * dt\n",
    "    \n",
    "\n",
    "    # Periodic Boundary conditions for particles\n",
    "    positions_x_new, positions_y_new,\\\n",
    "    positions_z_new                  = periodic_particles(positions_x_new, positions_y_new,\\\n",
    "                                                          positions_z_new, length_domain_x,\\\n",
    "                                                          length_domain_y, length_domain_z\\\n",
    "                                                         )\n",
    "\n",
    "\n",
    "    # Computing the current densities on the Yee grid provided by Umeda's scheme\n",
    "\n",
    "    Jx_Yee, Jy_Yee,\\\n",
    "    Jz_Yee                   = Umeda_2003(     charge_electron,\\\n",
    "                                               number_of_electrons,\\\n",
    "                                               positions_x ,positions_y,\\\n",
    "                                               velocity_x, velocity_y, velocity_z,\\\n",
    "                                               x_grid, y_grid,\\\n",
    "                                               ghost_cells,\\\n",
    "                                               length_domain_x, length_domain_y,\\\n",
    "                                               dx, dy,\\\n",
    "                                               dt\\\n",
    "                                              )\n",
    "    \n",
    "\n",
    "    # Normalizing and evaluation of current densities on the centered grid\n",
    "\n",
    "    Jx_norm_Yee = current_norm_BC_Jx(Jx_Yee, number_of_electrons, w_p, ghost_cells)\n",
    "    Jy_norm_Yee = current_norm_BC_Jy(Jy_Yee, number_of_electrons, w_p, ghost_cells)\n",
    "    Jz_norm_Yee = current_norm_BC_Jz(Jz_Yee, number_of_electrons, w_p, ghost_cells)\n",
    "\n",
    "    \n",
    "    # Evolving electric fields using currents\n",
    "\n",
    "    \n",
    "    Ex_updated, Ey_updated, Ez_updated,\\\n",
    "    Bx_updated, By_updated, Bz_updated= fdtd(Ex, Ey, Ez, Bx, By, Bz, length_domain_x,\\\n",
    "                                             length_domain_y, ghost_cells, Jx_norm_Yee,\\\n",
    "                                             Jy_norm_Yee, Jz_norm_Yee, dt,\\\n",
    "                                            )\n",
    "\n",
    "\n",
    "    # Forcing Bz to be zero\n",
    "    #Bz_updated[:,:] = 0\n",
    "\n",
    "    \n",
    "    # calculating the interpolation fraction needed for arrayfire's 2D interpolation\n",
    "    \n",
    "    fracs_Ex_x, fracs_Ex_y = fraction_finder(positions_x_new,\\\n",
    "                                             positions_y_new,\\\n",
    "                                             x_right, y_grid,\\\n",
    "                                             dx, dy\\\n",
    "                                            )\n",
    "\n",
    "    fracs_Ey_x, fracs_Ey_y = fraction_finder(positions_x_new,\\\n",
    "                                             positions_y_new,\\\n",
    "                                             x_grid, y_top,\\\n",
    "                                             dx, dy\\\n",
    "                                            )\n",
    "\n",
    "    fracs_Ez_x, fracs_Ez_y = fraction_finder(positions_x_new,\\\n",
    "                                             positions_y_new,\\\n",
    "                                             x_grid, y_grid,\\\n",
    "                                             dx, dy\\\n",
    "                                            )\n",
    "    \n",
    "    fracs_Bx_x, fracs_Bx_y = fraction_finder(positions_x_new,\\\n",
    "                                             positions_y_new,\\\n",
    "                                             x_grid, y_top,\\\n",
    "                                             dx, dy\\\n",
    "                                            )\n",
    "\n",
    "    fracs_By_x, fracs_By_y = fraction_finder(positions_x_new,\\\n",
    "                                             positions_y_new,\\\n",
    "                                             x_right, y_grid,\\\n",
    "                                             dx, dy\\\n",
    "                                            )\n",
    "\n",
    "    fracs_Bz_x, fracs_Bz_y = fraction_finder(positions_x_new,\\\n",
    "                                             positions_y_new,\\\n",
    "                                             x_right, y_top,\\\n",
    "                                             dx, dy\\\n",
    "                                            )\n",
    "    \n",
    "    \n",
    "\n",
    "    # Interpolating the fields at particle locations\n",
    "\n",
    "    # Interpolating the electric fields at t = (n + 1) * dt\n",
    "    Ex_particle = af.signal.approx2(Ex_updated, fracs_Ex_y, fracs_Ex_x)\n",
    "\n",
    "    Ey_particle = af.signal.approx2(Ey_updated, fracs_Ey_y, fracs_Ey_x)\n",
    "\n",
    "    Ez_particle = af.signal.approx2(Ez_updated, fracs_Ez_y, fracs_Ez_x)\n",
    "\n",
    "    # Interpolating the magnetic fields at t = (n + 1) * dt\n",
    "    \n",
    "    Bx_particle = af.signal.approx2((Bx_updated + Bx)/2, fracs_Bx_y, fracs_Bx_x)\n",
    "\n",
    "    By_particle = af.signal.approx2((By_updated + By)/2, fracs_By_y, fracs_By_x)\n",
    "\n",
    "    Bz_particle = af.signal.approx2((Bz_updated + Bz)/2, fracs_Bz_y, fracs_Bz_x)\n",
    "\n",
    "    # Updating the velocity using the interpolated Electric fields\n",
    "\n",
    "    velocity_x_new, velocity_y_new,\\\n",
    "    velocity_z_new                   = Boris(mass_electron, charge_electron,\\\n",
    "                                             velocity_x, velocity_y,\\\n",
    "                                             velocity_z, dt, Ex_particle,\\\n",
    "                                             Ey_particle, Ez_particle, Bx_particle,\\\n",
    "                                             By_particle, Bz_particle\\\n",
    "                                            )\n",
    "\n",
    "    # Saving the Electric fields for plotting\n",
    "\n",
    "    Ex_max[time_index]       = (af.max(af.abs(Ex[ghost_cells:-ghost_cells,\\\n",
    "                                                 ghost_cells:-ghost_cells]\\\n",
    "                                             )\\\n",
    "                                      )\\\n",
    "                               )\n",
    "    \n",
    "    Ey_max[time_index]       = (af.max(af.abs(Ey[ghost_cells:-ghost_cells,\\\n",
    "                                                 ghost_cells:-ghost_cells]\\\n",
    "                                             )\\\n",
    "                                      )\\\n",
    "                               )\n",
    "\n",
    "    # Saving the updated velocites for the next timestep\n",
    "    positions_x = positions_x_new.copy()\n",
    "    positions_y = positions_y_new.copy()\n",
    "    positions_z = positions_z_new.copy()\n",
    "    velocity_x  = velocity_x_new.copy()\n",
    "    velocity_y  = velocity_y_new.copy()\n",
    "    velocity_z  = velocity_z_new.copy()\n",
    "    Ex          = Ex_updated.copy()\n",
    "    Ey          = Ey_updated.copy()\n",
    "    Ez          = Ez_updated.copy()    \n",
    "    Bx          = Bx_updated.copy()    \n",
    "    By          = By_updated.copy()    \n",
    "    Bz          = Bz_updated.copy()"
   ]
  },
  {
   "cell_type": "code",
   "execution_count": null,
   "metadata": {
    "collapsed": false
   },
   "outputs": [],
   "source": [
    "#pl.plot(time, Ex_max)\n",
    "#pl.plot(time, Ey_max)\n",
    "\n",
    "#pl.contourf(np.array(x_right), np.array(y_top), np.array(Bz), 100)\n",
    "\n",
    "pl.subplot(131)\n",
    "pl.contourf(np.array(x_right), np.array(y_grid), np.array(Bx), 100)\n",
    "pl.xlabel('$x$')\n",
    "pl.ylabel('$y$')\n",
    "pl.title('$B_x$')\n",
    "\n",
    "pl.subplot(132)\n",
    "pl.contourf(np.array(x_grid), np.array(y_top), np.array(By), 100)\n",
    "pl.xlabel('$x$')\n",
    "pl.ylabel('$y$')\n",
    "pl.title('$B_y$')\n",
    "\n",
    "pl.subplot(133)\n",
    "pl.contourf(np.array(x_right), np.array(y_top), np.array(Ez), 100)\n",
    "pl.xlabel('$x$')\n",
    "pl.ylabel('$y$')\n",
    "pl.title('$E_z$')\n",
    "\n",
    "pl.colorbar()\n",
    "pl.show()"
   ]
  },
  {
   "cell_type": "markdown",
   "metadata": {},
   "source": [
    "### Comparing the plots from both Linear theory calculations and Electrostatic PIC below"
   ]
  },
  {
   "cell_type": "code",
   "execution_count": null,
   "metadata": {
    "collapsed": false
   },
   "outputs": [],
   "source": [
    "h5f = h5py.File('PIC_2D_CD.h5', 'w')\n",
    "h5f.create_dataset('Ex_amp', data = (Ex_max))\n",
    "h5f.create_dataset('Ey_amp', data = (Ey_max))\n",
    "h5f.close()"
   ]
  },
  {
   "cell_type": "code",
   "execution_count": null,
   "metadata": {
    "collapsed": false
   },
   "outputs": [],
   "source": [
    "print(af.max(Bx))"
   ]
  },
  {
   "cell_type": "code",
   "execution_count": null,
   "metadata": {
    "collapsed": false
   },
   "outputs": [],
   "source": [
    "# Reading data generated by the Cheng Knorr code\n",
    "h5f = h5py.File('CK_256.h5', 'r')\n",
    "Ex_max_CK = h5f['max_E'][:]\n",
    "h5f.close()\n",
    "time_CK = np.linspace(0,time[-1], len(Ex_max_CK))"
   ]
  },
  {
   "cell_type": "code",
   "execution_count": null,
   "metadata": {
    "collapsed": false
   },
   "outputs": [],
   "source": [
    "time_grid = np.linspace(0, time[-1], len(Ex_max))\n",
    "pl.plot(time_grid, Ey_max , label = r'$\\mathrm{PIC}$')\n",
    "# pl.plot(time_LT, Ex_max_LT,'--',lw = 3,label = '$\\mathrm{LT}$')\n",
    "pl.plot(time_CK, Ex_max_CK, label = '$\\mathrm{Cheng\\;Knorr}$')\n",
    "# print('(abs(Ex_amplitude[0])) is ',(abs(Ex_amplitude[0])))\n",
    "# print('(abs(Ex_max[0])) is ',(abs(Ex_max[0])))\n",
    "pl.xlabel('$t$')\n",
    "pl.ylabel('$\\mathrm{MAX}(|E_{x}|)$')\n",
    "pl.legend()\n",
    "pl.show()\n",
    "# pl.savefig('MaxE.png')\n",
    "pl.clf()"
   ]
  },
  {
   "cell_type": "code",
   "execution_count": null,
   "metadata": {
    "collapsed": false
   },
   "outputs": [],
   "source": [
    "pl.semilogy(time_grid, Ey_max ,label = r'$\\mathrm{PIC}$')\n",
    "# pl.semilogy(time_LT, Ex_max_LT,'--',lw = 3,label = '$\\mathrm{LT}$')\n",
    "pl.semilogy(time_CK,Ex_max_CK, label = '$\\mathrm{Cheng\\;Knorr}$')\n",
    "pl.legend()\n",
    "pl.xlabel('$t$')\n",
    "pl.ylabel('$\\mathrm{MAX}(|E_{x}|)$')\n",
    "pl.show()\n",
    "# pl.savefig('MaxE_semilogy.png')\n",
    "pl.clf()"
   ]
  },
  {
   "cell_type": "code",
   "execution_count": null,
   "metadata": {
    "collapsed": false
   },
   "outputs": [],
   "source": [
    "pl.loglog(time_grid, Ey_max ,label = r'$\\mathrm{PIC}$')\n",
    "# pl.loglog(time_LT, Ex_max_LT,'--',lw = 3,label = '$\\mathrm{LT}$')\n",
    "pl.semilogy(time_CK,Ex_max_CK, label = '$\\mathrm{Cheng\\;Knorr}$')\n",
    "pl.legend()\n",
    "pl.xlabel('$t$')\n",
    "pl.ylabel('$\\mathrm{MAX}(|E_{x}|)$')\n",
    "pl.show()\n",
    "# pl.savefig('MaxE_loglog.png')\n",
    "pl.clf()"
   ]
  },
  {
   "cell_type": "code",
   "execution_count": null,
   "metadata": {
    "collapsed": true
   },
   "outputs": [],
   "source": []
  },
  {
   "cell_type": "markdown",
   "metadata": {
    "collapsed": true
   },
   "source": []
  }
 ],
 "metadata": {
  "anaconda-cloud": {},
  "kernelspec": {
   "display_name": "Python 3",
   "language": "python",
   "name": "python3"
  },
  "language_info": {
   "codemirror_mode": {
    "name": "ipython",
    "version": 3
   },
   "file_extension": ".py",
   "mimetype": "text/x-python",
   "name": "python",
   "nbconvert_exporter": "python",
   "pygments_lexer": "ipython3",
   "version": "3.6.0"
  }
 },
 "nbformat": 4,
 "nbformat_minor": 0
}
