{
 "cells": [
  {
   "cell_type": "code",
   "execution_count": 1,
   "metadata": {
    "collapsed": false
   },
   "outputs": [],
   "source": [
    "import numpy as np\n",
    "import h5py\n",
    "import pylab as pl\n",
    "import arrayfire as af\n",
    "from scipy.fftpack import fftfreq\n",
    "from numpy.fft import fft2, ifft2\n",
    "import params"
   ]
  },
  {
   "cell_type": "code",
   "execution_count": 2,
   "metadata": {
    "collapsed": true
   },
   "outputs": [],
   "source": [
    "pl.rcParams['figure.figsize']  = 12, 7.5\n",
    "pl.rcParams['lines.linewidth'] = 1.5\n",
    "pl.rcParams['font.family']     = 'serif'\n",
    "pl.rcParams['font.weight']     = 'bold'\n",
    "pl.rcParams['font.size']       = 20\n",
    "pl.rcParams['font.sans-serif'] = 'serif'\n",
    "pl.rcParams['text.usetex']     = True\n",
    "pl.rcParams['axes.linewidth']  = 1.5\n",
    "pl.rcParams['axes.titlesize']  = 'medium'\n",
    "pl.rcParams['axes.labelsize']  = 'medium'\n",
    "\n",
    "pl.rcParams['xtick.major.size'] = 8\n",
    "pl.rcParams['xtick.minor.size'] = 4\n",
    "pl.rcParams['xtick.major.pad']  = 8\n",
    "pl.rcParams['xtick.minor.pad']  = 8\n",
    "pl.rcParams['xtick.color']      = 'k'\n",
    "pl.rcParams['xtick.labelsize']  = 'medium'\n",
    "pl.rcParams['xtick.direction']  = 'in'\n",
    "\n",
    "pl.rcParams['ytick.major.size'] = 8\n",
    "pl.rcParams['ytick.minor.size'] = 4\n",
    "pl.rcParams['ytick.major.pad']  = 8\n",
    "pl.rcParams['ytick.minor.pad']  = 8\n",
    "pl.rcParams['ytick.color']      = 'k'\n",
    "pl.rcParams['ytick.labelsize']  = 'medium'\n",
    "pl.rcParams['ytick.direction']  = 'in'"
   ]
  },
  {
   "cell_type": "code",
   "execution_count": 3,
   "metadata": {
    "collapsed": false
   },
   "outputs": [],
   "source": [
    "# Importing all the functions\n",
    "from two_v.helper import set_up_perturbation\n",
    "from two_v.charge_deposition import cloud_charge_deposition\n",
    "from two_v.charge_deposition import charge_b1_depositor\n",
    "from two_v.charge_deposition import norm_background_ions\n",
    "from two_v.charge_deposition import periodic_ghost\n",
    "from two_v.boris import periodic_particles\n",
    "from two_v.interpolation import fraction_finder\n",
    "from two_v.boris import Boris\n",
    "from two_v.current_deposition import Umeda_2003\n",
    "from two_v.current_deposition import current_norm_BC_Jx\n",
    "from two_v.current_deposition import current_norm_BC_Jy\n",
    "from two_v.fft import fft_poisson\n",
    "from two_v.fields import fdtd"
   ]
  },
  {
   "cell_type": "markdown",
   "metadata": {},
   "source": [
    "Using Computational particles\n",
    "\\begin{align}\n",
    "q_{p} = w_{p}q \\\\\n",
    "m_{p} = w_{p}m \\\\\n",
    "\\end{align}\n",
    "where $q_{p}$ and $m_{p} $is the charge of the macro particle and mass of the macro particle respectively"
   ]
  },
  {
   "cell_type": "code",
   "execution_count": 4,
   "metadata": {
    "collapsed": true
   },
   "outputs": [],
   "source": [
    "# Weighting factor w_p = number of electrons composing the macro particle\n",
    "# Doesn't affect the the physics of the system (Coarse graining doesn't affect vlasov maxwell system)\n",
    "# It should be kept such that the number density in the PIC code corresponds\n",
    "# to the densities found in real plasmas\n",
    "w_p             = params.w_p"
   ]
  },
  {
   "cell_type": "code",
   "execution_count": 5,
   "metadata": {
    "collapsed": false
   },
   "outputs": [],
   "source": [
    "# Macro Particle parameters\n",
    "k_boltzmann     = params.k_boltzmann\n",
    "mass_electron   = params.mass_electron\n",
    "tempertature    = params.tempertature\n",
    "charge_electron = params.charge_electron\n",
    "charge_ion      = params.charge_ion\n"
   ]
  },
  {
   "cell_type": "code",
   "execution_count": 6,
   "metadata": {
    "collapsed": true
   },
   "outputs": [],
   "source": [
    "# Setting the length of the domain\n",
    "length_domain_x = params.length_domain_x\n",
    "length_domain_y = params.length_domain_y"
   ]
  },
  {
   "cell_type": "code",
   "execution_count": 7,
   "metadata": {
    "collapsed": false
   },
   "outputs": [],
   "source": [
    "# Setting the number of ghost cells\n",
    "ghost_cells  = params.ghost_cells"
   ]
  },
  {
   "cell_type": "code",
   "execution_count": 8,
   "metadata": {
    "collapsed": false
   },
   "outputs": [],
   "source": [
    "# Setting number of particle in the domain\n",
    "number_of_electrons = params.number_of_electrons"
   ]
  },
  {
   "cell_type": "code",
   "execution_count": 9,
   "metadata": {
    "collapsed": true
   },
   "outputs": [],
   "source": [
    "# Initializing the positions and velocities of the particles\n",
    "positions_x = length_domain_x * np.random.rand(number_of_electrons)\n",
    "positions_y = length_domain_y * np.random.rand(number_of_electrons)"
   ]
  },
  {
   "cell_type": "code",
   "execution_count": 10,
   "metadata": {
    "collapsed": true
   },
   "outputs": [],
   "source": [
    "# setting the mean and standard deviation of the maxwell distribution\n",
    "# Thermal/mean velocity of macro particles should correspond to\n",
    "# that of individual electrons in the plasma\n",
    "mu_x, sigma_x = 0, (k_boltzmann * tempertature / (mass_electron / w_p))\n",
    "mu_y, sigma_y = 0, (k_boltzmann * tempertature / (mass_electron / w_p))\n",
    "\n",
    "# Initializing the velocitites according to the maxwell distribution\n",
    "velocity_x = np.random.normal(mu_x, sigma_x, number_of_electrons)\n",
    "velocity_y = np.random.normal(mu_y, sigma_y, number_of_electrons)"
   ]
  },
  {
   "cell_type": "code",
   "execution_count": 11,
   "metadata": {
    "collapsed": true
   },
   "outputs": [],
   "source": [
    "# Divisions in x grid\n",
    "divisions_domain_x = params.divisions_domain_x\n",
    "divisions_domain_y = params.divisions_domain_y"
   ]
  },
  {
   "cell_type": "code",
   "execution_count": 12,
   "metadata": {
    "collapsed": true
   },
   "outputs": [],
   "source": [
    "# dx, dy is the distance between consecutive grid nodes along x and y\n",
    "dx = length_domain_x / divisions_domain_x\n",
    "dy = length_domain_y / divisions_domain_y"
   ]
  },
  {
   "cell_type": "code",
   "execution_count": 13,
   "metadata": {
    "collapsed": true
   },
   "outputs": [],
   "source": [
    "# initializing the x grid\n",
    "x_grid = np.linspace(    0 - ghost_cells * dx,\\\n",
    "                         length_domain_x + ghost_cells * dx, \\\n",
    "                         divisions_domain_x + 1 + 2 * ghost_cells,\\\n",
    "                         endpoint=True,\\\n",
    "                         dtype = np.double\\\n",
    "                    )\n",
    "\n",
    "\n",
    "x_right = x_grid + dx/2"
   ]
  },
  {
   "cell_type": "code",
   "execution_count": 14,
   "metadata": {
    "collapsed": true
   },
   "outputs": [],
   "source": [
    "# initializing the y grid\n",
    "y_grid = np.linspace(    0 - ghost_cells * dy,\\\n",
    "                         length_domain_y + ghost_cells * dy, \\\n",
    "                         divisions_domain_y + 1 + 2 * ghost_cells,\\\n",
    "                         endpoint=True,\\\n",
    "                         dtype = np.double\\\n",
    "                    )\n",
    "\n",
    "y_top  = y_grid + dy/2"
   ]
  },
  {
   "cell_type": "code",
   "execution_count": 15,
   "metadata": {
    "collapsed": true
   },
   "outputs": [],
   "source": [
    "# Setting the amplitude for perturbation\n",
    "N_divisions_x         = divisions_domain_x\n",
    "N_divisions_y         = divisions_domain_y\n",
    "amplitude_perturbed = params.amplitude_perturbed\n",
    "k_x                 = params.k_x\n",
    "k_y                 = params.k_y\n",
    "\n",
    "# Initializing the perturbation\n",
    "positions_x, positions_y   = set_up_perturbation(     positions_x,\\\n",
    "                                                      positions_y,\\\n",
    "                                                      number_of_electrons,\\\n",
    "                                                      N_divisions_x,\\\n",
    "                                                      N_divisions_y,\\\n",
    "                                                      amplitude_perturbed,\\\n",
    "                                                      k_x,\\\n",
    "                                                      k_y,\\\n",
    "                                                      length_domain_x,\\\n",
    "                                                      length_domain_y,\\\n",
    "                                                      dx,\\\n",
    "                                                      dy\\\n",
    "                                                 )\n",
    "\n",
    "# For 1D simulation:\n",
    "positions_y = length_domain_y * np.random.rand(number_of_electrons)\n",
    "velocity_y  = np.zeros(number_of_electrons)"
   ]
  },
  {
   "cell_type": "code",
   "execution_count": 16,
   "metadata": {
    "collapsed": true
   },
   "outputs": [],
   "source": [
    "# Converting to arrayfire arrays\n",
    "positions_x  = af.to_array(positions_x)\n",
    "positions_y  = af.to_array(positions_y)\n",
    "velocity_x   = af.to_array(velocity_x)\n",
    "velocity_y   = af.to_array(velocity_y)\n",
    "x_grid       = af.to_array(x_grid)\n",
    "y_grid       = af.to_array(y_grid)\n",
    "x_right      = af.to_array(x_right)\n",
    "y_top        = af.to_array(y_top)"
   ]
  },
  {
   "cell_type": "code",
   "execution_count": 17,
   "metadata": {
    "collapsed": true
   },
   "outputs": [],
   "source": [
    "# Plotting the initial density perturbation\n",
    "\n",
    "position_grid   = np.linspace(0, 1, N_divisions_x)\n",
    "number_electrons_in_bins, b  = np.histogram(np.array(positions_x),\\\n",
    "                                                 bins=(100),\\\n",
    "                                                 range = (0, length_domain_x)\n",
    "                                               )\n",
    "\n",
    "number_density     = (number_electrons_in_bins / (number_of_electrons / (divisions_domain_x)))"
   ]
  },
  {
   "cell_type": "code",
   "execution_count": 18,
   "metadata": {
    "collapsed": false
   },
   "outputs": [
    {
     "data": {
      "image/png": "[encoded data removed]",
      "text/plain": [
       "<matplotlib.figure.Figure at 0x7f07d8075f60>"
      ]
     },
     "metadata": {},
     "output_type": "display_data"
    }
   ],
   "source": [
    "# # Plotting the initial density perturbation\n",
    "pl.plot(number_density, label = r'$n$')\n",
    "pl.title(r'$\\mathrm{Initial\\;density\\;perturbation}$')\n",
    "pl.xlabel('$x$')\n",
    "pl.ylabel(r'$n_{electrons}(x)$')\n",
    "pl.show()\n",
    "pl.clf()"
   ]
  },
  {
   "cell_type": "code",
   "execution_count": 19,
   "metadata": {
    "collapsed": true
   },
   "outputs": [],
   "source": [
    "# Time parameters\n",
    "start_time = 0\n",
    "\n",
    "end_time   = 1\n",
    "\n",
    "dt         = 0.002\n",
    "\n",
    "time       = np.arange(    start_time,\\\n",
    "                           end_time + dt,\\\n",
    "                           dt,\\\n",
    "                           dtype = np.double\\\n",
    "                      )"
   ]
  },
  {
   "cell_type": "code",
   "execution_count": 20,
   "metadata": {
    "collapsed": true
   },
   "outputs": [],
   "source": [
    "# Some variables for storing data\n",
    "Ex_max       = np.zeros(len(time), dtype = np.double)\n",
    "Ey_max       = np.zeros(len(time), dtype = np.double)"
   ]
  },
  {
   "cell_type": "code",
   "execution_count": 21,
   "metadata": {
    "collapsed": false
   },
   "outputs": [],
   "source": [
    "# Charge deposition using linear weighting scheme\n",
    "\n",
    "rho_electrons  = cloud_charge_deposition(charge_electron,\\\n",
    "                            number_of_electrons,\\\n",
    "                            positions_x,\\\n",
    "                            positions_y,\\\n",
    "                            x_grid,\\\n",
    "                            y_grid,\\\n",
    "                            charge_b1_depositor,\\\n",
    "                            ghost_cells,\\\n",
    "                            length_domain_x,\\\n",
    "                            length_domain_y,\\\n",
    "                            dx,\\\n",
    "                            dy\\\n",
    "                           )\n",
    "rho_initial    = norm_background_ions(rho_electrons, number_of_electrons, w_p, charge_electron) "
   ]
  },
  {
   "cell_type": "code",
   "execution_count": 22,
   "metadata": {
    "collapsed": false
   },
   "outputs": [
    {
     "data": {
      "image/png": "[encoded data removed]",
      "text/plain": [
       "<matplotlib.figure.Figure at 0x7f07d8075f28>"
      ]
     },
     "metadata": {},
     "output_type": "display_data"
    }
   ],
   "source": [
    "# # plotting intial rho in the system considering background ions\n",
    "pl.plot(np.array(rho_initial)[1, :])\n",
    "pl.show()\n",
    "pl.clf()"
   ]
  },
  {
   "cell_type": "code",
   "execution_count": 23,
   "metadata": {
    "collapsed": false
   },
   "outputs": [
    {
     "name": "stdout",
     "output_type": "stream",
     "text": [
      "rho.dims() is  (2, 101)\n"
     ]
    }
   ],
   "source": [
    "# Computing the initial electric fields Ex and Ey\n",
    "Ex_initial_centered = af.data.constant(0, y_grid.elements(), x_grid.elements(), dtype = af.Dtype.f64)\n",
    "Ey_initial_centered = af.data.constant(0, y_grid.elements(), x_grid.elements(), dtype = af.Dtype.f64)\n",
    "\n",
    "rho_physical = rho_initial[ghost_cells:-ghost_cells, ghost_cells:-ghost_cells].copy()\n",
    "\n",
    "Ex_temp, Ey_temp = fft_poisson(rho_physical, dx, dy)\n",
    "\n",
    "Ex_initial_centered[ghost_cells:-ghost_cells\\\n",
    "                    ,ghost_cells:-ghost_cells\\\n",
    "                   ]                           = Ex_temp.copy()\n",
    "\n",
    "Ey_initial_centered[ghost_cells:-ghost_cells\\\n",
    "                    ,ghost_cells:-ghost_cells\\\n",
    "                   ]                           = Ey_temp.copy()\n",
    "\n",
    "Ex_initial_centered = periodic_ghost(Ex_initial_centered, ghost_cells)\n",
    "Ey_initial_centered = periodic_ghost(Ey_initial_centered, ghost_cells)"
   ]
  },
  {
   "cell_type": "code",
   "execution_count": 24,
   "metadata": {
    "collapsed": true
   },
   "outputs": [],
   "source": [
    "# Bringing Ex_initial_centered, Ey_initial_centered to Yee grid\n",
    "Ex_initial_Yee = 0.5 * (Ex_initial_centered + af.shift(Ex_initial_centered, 0, -1))\n",
    "Ex_initial_Yee = periodic_ghost(Ex_initial_Yee, ghost_cells)\n",
    "\n",
    "Ey_initial_Yee = 0.5 * (Ey_initial_centered + af.shift(Ey_initial_centered, -1, 0))\n",
    "Ey_initial_Yee = periodic_ghost(Ey_initial_Yee, ghost_cells)"
   ]
  },
  {
   "cell_type": "code",
   "execution_count": 25,
   "metadata": {
    "collapsed": true
   },
   "outputs": [],
   "source": [
    "Bz_initial_Yee = 0 * Ex_initial_Yee.copy()"
   ]
  },
  {
   "cell_type": "markdown",
   "metadata": {},
   "source": [
    "The following cell block determines $v(\\frac{\\Delta t}{2})$:\n",
    "\\begin{align}\n",
    "v(\\frac{\\Delta t}{2}) = v(t = 0) + E_{x}\\left(x(\\frac{\\Delta t}{2})\\right)\\frac{\\Delta t}{2}\n",
    "\\end{align}"
   ]
  },
  {
   "cell_type": "code",
   "execution_count": 26,
   "metadata": {
    "collapsed": true
   },
   "outputs": [],
   "source": [
    "# This cell block is to obtain v at (t = 0.5dt) to implement the verlet algorithm.\n",
    "\n",
    "positions_x_half = positions_x + velocity_x * dt/2\n",
    "positions_y_half = positions_y + velocity_y * dt/2\n",
    "\n",
    "# Periodic Boundary conditions for particles \n",
    "\n",
    "positions_x_half, positions_y_half = periodic_particles(positions_x_half,\\\n",
    "                                                        positions_y_half,\\\n",
    "                                                        length_domain_x,\\\n",
    "                                                        length_domain_y\\\n",
    "                                                       )\n",
    "\n",
    "# Finding interpolant fractions for the positions\n",
    "\n",
    "fracs_Ex_x, fracs_Ex_y = fraction_finder(positions_x_half,\\\n",
    "                                         positions_y_half, \\\n",
    "                                         x_right, y_grid,\\\n",
    "                                         dx, dy\\\n",
    "                                        )\n",
    "\n",
    "fracs_Ey_x, fracs_Ey_y = fraction_finder(positions_x_half,\\\n",
    "                                         positions_y_half, \\\n",
    "                                         x_grid, y_top,\\\n",
    "                                         dx, dy\\\n",
    "                                        )\n",
    "\n",
    "\n",
    "fracs_Bz_x, fracs_Bz_y = fraction_finder(positions_x_half,\\\n",
    "                                         positions_y_half,\\\n",
    "                                         x_right, y_top,\\\n",
    "                                         dx, dy\\\n",
    "                                        )\n",
    "# Interpolating the fields at each particle\n",
    "\n",
    "Ex_particle = af.signal.approx2(Ex_initial_Yee, fracs_Ex_y, fracs_Ex_x)\n",
    "Ey_particle = af.signal.approx2(Ey_initial_Yee, fracs_Ey_y, fracs_Ey_x)\n",
    "Bz_particle = af.signal.approx2(Bz_initial_Yee, fracs_Bz_y, fracs_Bz_x)\n",
    "\n",
    "# Updating the velocity using the interpolated Electric fields to find v at (t = 0.5dt)\n",
    "\n",
    "velocity_x, velocity_y =  Boris( charge_electron, mass_electron,\\\n",
    "                                 velocity_x, velocity_y, dt/2,\\\n",
    "                                 Ex_particle, Ey_particle, Bz_particle\\\n",
    "                               )\n",
    "\n",
    "\n",
    "Ex = Ex_initial_Yee.copy()\n",
    "Ey = Ey_initial_Yee.copy()\n",
    "Bz = 0 * Ey_initial_Yee.copy()"
   ]
  },
  {
   "cell_type": "code",
   "execution_count": 27,
   "metadata": {
    "collapsed": false
   },
   "outputs": [
    {
     "data": {
      "image/png": "[encoded data removed]",
      "text/plain": [
       "<matplotlib.figure.Figure at 0x7f07b48eceb8>"
      ]
     },
     "metadata": {},
     "output_type": "display_data"
    }
   ],
   "source": [
    "pl.plot(np.array(Ex_initial_Yee)[1, :])\n",
    "pl.show()\n",
    "pl.clf()"
   ]
  },
  {
   "cell_type": "code",
   "execution_count": 28,
   "metadata": {
    "collapsed": false
   },
   "outputs": [
    {
     "name": "stdout",
     "output_type": "stream",
     "text": [
      "Computing for time =  0.0\n",
      "Computing for time =  0.05\n",
      "Computing for time =  0.1\n",
      "Computing for time =  0.15\n"
     ]
    },
    {
     "ename": "RuntimeError",
     "evalue": "In function af_err af_moddims(void**, af_array, unsigned int, const dim_t*)\nIn file src/api/c/moddims.cpp:68\nInvalid dimension for argument 1\nExpected: in_elements == new_elements\n",
     "output_type": "error",
     "traceback": [
      "\u001b[0;31m---------------------------------------------------------------------------\u001b[0m",
      "\u001b[0;31mRuntimeError\u001b[0m                              Traceback (most recent call last)",
      "\u001b[0;32m<ipython-input-28-40f4b84aa99a>\u001b[0m in \u001b[0;36m<module>\u001b[0;34m()\u001b[0m\n\u001b[1;32m     15\u001b[0m     \u001b[0;31m# Computing the current densities on the Yee grid provided by Umeda's scheme\u001b[0m\u001b[0;34m\u001b[0m\u001b[0;34m\u001b[0m\u001b[0m\n\u001b[1;32m     16\u001b[0m \u001b[0;34m\u001b[0m\u001b[0m\n\u001b[0;32m---> 17\u001b[0;31m     \u001b[0mJx_Yee\u001b[0m\u001b[0;34m,\u001b[0m \u001b[0mJy_Yee\u001b[0m \u001b[0;34m=\u001b[0m \u001b[0mUmeda_2003\u001b[0m\u001b[0;34m(\u001b[0m \u001b[0mcharge_electron\u001b[0m\u001b[0;34m,\u001b[0m                                             \u001b[0mnumber_of_electrons\u001b[0m\u001b[0;34m,\u001b[0m                                             \u001b[0mpositions_x\u001b[0m\u001b[0;34m,\u001b[0m \u001b[0mpositions_y\u001b[0m\u001b[0;34m,\u001b[0m                                             \u001b[0mvelocity_x\u001b[0m\u001b[0;34m,\u001b[0m \u001b[0mvelocity_y\u001b[0m\u001b[0;34m,\u001b[0m                                             \u001b[0mx_grid\u001b[0m\u001b[0;34m,\u001b[0m \u001b[0my_grid\u001b[0m\u001b[0;34m,\u001b[0m                                             \u001b[0mghost_cells\u001b[0m\u001b[0;34m,\u001b[0m                                             \u001b[0mlength_domain_x\u001b[0m\u001b[0;34m,\u001b[0m \u001b[0mlength_domain_y\u001b[0m\u001b[0;34m,\u001b[0m                                             \u001b[0mdx\u001b[0m\u001b[0;34m,\u001b[0m \u001b[0mdy\u001b[0m\u001b[0;34m,\u001b[0m                                             \u001b[0mdt\u001b[0m                                             \u001b[0;34m)\u001b[0m\u001b[0;34m\u001b[0m\u001b[0m\n\u001b[0m\u001b[1;32m     18\u001b[0m \u001b[0;34m\u001b[0m\u001b[0m\n\u001b[1;32m     19\u001b[0m     \u001b[0;31m# Normalizing and evaluation of current densities on the centered grid\u001b[0m\u001b[0;34m\u001b[0m\u001b[0;34m\u001b[0m\u001b[0m\n",
      "\u001b[0;32m/home/tejas/Documents/2DPIC_edit2/2D2V_2D3V/two_v/current_deposition.py\u001b[0m in \u001b[0;36mUmeda_2003\u001b[0;34m(charge_electron, number_of_electrons, positions_x, positions_y, velocities_x, velocities_y, x_grid, y_grid, ghost_cells, length_domain_x, length_domain_y, dx, dy, dt)\u001b[0m\n\u001b[1;32m    369\u001b[0m     \u001b[0mJy_Yee\u001b[0m \u001b[0;34m=\u001b[0m \u001b[0mhistogram_deposition\u001b[0m\u001b[0;34m(\u001b[0m\u001b[0minput_indices\u001b[0m\u001b[0;34m,\u001b[0m \u001b[0mJy_values_at_these_indices\u001b[0m\u001b[0;34m,\u001b[0m \u001b[0melements\u001b[0m\u001b[0;34m)\u001b[0m\u001b[0;34m\u001b[0m\u001b[0m\n\u001b[1;32m    370\u001b[0m \u001b[0;34m\u001b[0m\u001b[0m\n\u001b[0;32m--> 371\u001b[0;31m     \u001b[0mJy_Yee\u001b[0m \u001b[0;34m=\u001b[0m \u001b[0maf\u001b[0m\u001b[0;34m.\u001b[0m\u001b[0mdata\u001b[0m\u001b[0;34m.\u001b[0m\u001b[0mmoddims\u001b[0m\u001b[0;34m(\u001b[0m\u001b[0maf\u001b[0m\u001b[0;34m.\u001b[0m\u001b[0mto_array\u001b[0m\u001b[0;34m(\u001b[0m\u001b[0mJy_Yee\u001b[0m\u001b[0;34m)\u001b[0m\u001b[0;34m,\u001b[0m \u001b[0my_grid\u001b[0m\u001b[0;34m.\u001b[0m\u001b[0melements\u001b[0m\u001b[0;34m(\u001b[0m\u001b[0;34m)\u001b[0m\u001b[0;34m,\u001b[0m \u001b[0mx_grid\u001b[0m\u001b[0;34m.\u001b[0m\u001b[0melements\u001b[0m\u001b[0;34m(\u001b[0m\u001b[0;34m)\u001b[0m\u001b[0;34m)\u001b[0m\u001b[0;34m\u001b[0m\u001b[0m\n\u001b[0m\u001b[1;32m    372\u001b[0m \u001b[0;34m\u001b[0m\u001b[0m\n\u001b[1;32m    373\u001b[0m     \u001b[0maf\u001b[0m\u001b[0;34m.\u001b[0m\u001b[0meval\u001b[0m\u001b[0;34m(\u001b[0m\u001b[0mJx_Yee\u001b[0m\u001b[0;34m,\u001b[0m \u001b[0mJy_Yee\u001b[0m\u001b[0;34m)\u001b[0m\u001b[0;34m\u001b[0m\u001b[0m\n",
      "\u001b[0;32m/home/tejas/anaconda3/lib/python3.6/site-packages/arrayfire/data.py\u001b[0m in \u001b[0;36mmoddims\u001b[0;34m(a, d0, d1, d2, d3)\u001b[0m\n\u001b[1;32m    570\u001b[0m     \u001b[0mout\u001b[0m \u001b[0;34m=\u001b[0m \u001b[0mArray\u001b[0m\u001b[0;34m(\u001b[0m\u001b[0;34m)\u001b[0m\u001b[0;34m\u001b[0m\u001b[0m\n\u001b[1;32m    571\u001b[0m     \u001b[0mdims\u001b[0m \u001b[0;34m=\u001b[0m \u001b[0mdim4\u001b[0m\u001b[0;34m(\u001b[0m\u001b[0md0\u001b[0m\u001b[0;34m,\u001b[0m \u001b[0md1\u001b[0m\u001b[0;34m,\u001b[0m \u001b[0md2\u001b[0m\u001b[0;34m,\u001b[0m \u001b[0md3\u001b[0m\u001b[0;34m)\u001b[0m\u001b[0;34m\u001b[0m\u001b[0m\n\u001b[0;32m--> 572\u001b[0;31m     \u001b[0msafe_call\u001b[0m\u001b[0;34m(\u001b[0m\u001b[0mbackend\u001b[0m\u001b[0;34m.\u001b[0m\u001b[0mget\u001b[0m\u001b[0;34m(\u001b[0m\u001b[0;34m)\u001b[0m\u001b[0;34m.\u001b[0m\u001b[0maf_moddims\u001b[0m\u001b[0;34m(\u001b[0m\u001b[0mc_pointer\u001b[0m\u001b[0;34m(\u001b[0m\u001b[0mout\u001b[0m\u001b[0;34m.\u001b[0m\u001b[0marr\u001b[0m\u001b[0;34m)\u001b[0m\u001b[0;34m,\u001b[0m \u001b[0ma\u001b[0m\u001b[0;34m.\u001b[0m\u001b[0marr\u001b[0m\u001b[0;34m,\u001b[0m \u001b[0;36m4\u001b[0m\u001b[0;34m,\u001b[0m \u001b[0mc_pointer\u001b[0m\u001b[0;34m(\u001b[0m\u001b[0mdims\u001b[0m\u001b[0;34m)\u001b[0m\u001b[0;34m)\u001b[0m\u001b[0;34m)\u001b[0m\u001b[0;34m\u001b[0m\u001b[0m\n\u001b[0m\u001b[1;32m    573\u001b[0m     \u001b[0;32mreturn\u001b[0m \u001b[0mout\u001b[0m\u001b[0;34m\u001b[0m\u001b[0m\n\u001b[1;32m    574\u001b[0m \u001b[0;34m\u001b[0m\u001b[0m\n",
      "\u001b[0;32m/home/tejas/anaconda3/lib/python3.6/site-packages/arrayfire/util.py\u001b[0m in \u001b[0;36msafe_call\u001b[0;34m(af_error)\u001b[0m\n\u001b[1;32m     77\u001b[0m         \u001b[0merr_len\u001b[0m \u001b[0;34m=\u001b[0m \u001b[0mc_dim_t\u001b[0m\u001b[0;34m(\u001b[0m\u001b[0;36m0\u001b[0m\u001b[0;34m)\u001b[0m\u001b[0;34m\u001b[0m\u001b[0m\n\u001b[1;32m     78\u001b[0m         \u001b[0mbackend\u001b[0m\u001b[0;34m.\u001b[0m\u001b[0mget\u001b[0m\u001b[0;34m(\u001b[0m\u001b[0;34m)\u001b[0m\u001b[0;34m.\u001b[0m\u001b[0maf_get_last_error\u001b[0m\u001b[0;34m(\u001b[0m\u001b[0mc_pointer\u001b[0m\u001b[0;34m(\u001b[0m\u001b[0merr_str\u001b[0m\u001b[0;34m)\u001b[0m\u001b[0;34m,\u001b[0m \u001b[0mc_pointer\u001b[0m\u001b[0;34m(\u001b[0m\u001b[0merr_len\u001b[0m\u001b[0;34m)\u001b[0m\u001b[0;34m)\u001b[0m\u001b[0;34m\u001b[0m\u001b[0m\n\u001b[0;32m---> 79\u001b[0;31m         \u001b[0;32mraise\u001b[0m \u001b[0mRuntimeError\u001b[0m\u001b[0;34m(\u001b[0m\u001b[0mto_str\u001b[0m\u001b[0;34m(\u001b[0m\u001b[0merr_str\u001b[0m\u001b[0;34m)\u001b[0m\u001b[0;34m)\u001b[0m\u001b[0;34m\u001b[0m\u001b[0m\n\u001b[0m\u001b[1;32m     80\u001b[0m \u001b[0;34m\u001b[0m\u001b[0m\n\u001b[1;32m     81\u001b[0m \u001b[0;32mdef\u001b[0m \u001b[0mget_version\u001b[0m\u001b[0;34m(\u001b[0m\u001b[0;34m)\u001b[0m\u001b[0;34m:\u001b[0m\u001b[0;34m\u001b[0m\u001b[0m\n",
      "\u001b[0;31mRuntimeError\u001b[0m: In function af_err af_moddims(void**, af_array, unsigned int, const dim_t*)\nIn file src/api/c/moddims.cpp:68\nInvalid dimension for argument 1\nExpected: in_elements == new_elements\n"
     ]
    }
   ],
   "source": [
    "for time_index in range(len(time)):\n",
    "    if(time_index%25 ==0):\n",
    "        print('Computing for time = ', time_index * dt)\n",
    "        \n",
    "\n",
    "    # Updating the positions of particle using the velocites (Verlet algorithm)\n",
    "    # velocity at t = (n + 1/2) dt, positions_x at t = (n)dt and positions_x_new\n",
    "    # at t = (n+1)dt\n",
    "    positions_x_new = positions_x + velocity_x * dt\n",
    "    positions_y_new = positions_y + velocity_y * dt\n",
    "\n",
    "    # Periodic Boundary conditions for particles\n",
    "    positions_x_new, positions_y_new = periodic_particles(positions_x_new, positions_y_new,\\\n",
    "                                                          length_domain_x, length_domain_y\\\n",
    "                                                         )\n",
    "\n",
    "    # Computing the current densities on the Yee grid provided by Umeda's scheme\n",
    "\n",
    "    Jx_Yee, Jy_Yee = Umeda_2003( charge_electron,\\\n",
    "                                             number_of_electrons,\\\n",
    "                                             positions_x, positions_y,\\\n",
    "                                             velocity_x, velocity_y,\\\n",
    "                                             x_grid, y_grid,\\\n",
    "                                             ghost_cells,\\\n",
    "                                             length_domain_x, length_domain_y,\\\n",
    "                                             dx, dy,\\\n",
    "                                             dt \\\n",
    "                                            )\n",
    "\n",
    "    # Normalizing and evaluation of current densities on the centered grid\n",
    "\n",
    "    Jx_norm_Yee = current_norm_BC_Jx(Jx_Yee, number_of_electrons, w_p, ghost_cells)\n",
    "    Jy_norm_Yee = current_norm_BC_Jy(Jy_Yee, number_of_electrons, w_p, ghost_cells)\n",
    "\n",
    "    # Evolving electric fields using currents\n",
    "    \n",
    "    Ex_updated, Ey_updated, Bz_updated = fdtd(Ex, Ey, Bz, length_domain_x,\\\n",
    "                                              length_domain_y, ghost_cells,\\\n",
    "                                              Jx_norm_Yee, Jy_norm_Yee,\\\n",
    "                                              dt\\\n",
    "                                             )\n",
    "\n",
    "    # Forcing Bz to be zero\n",
    "    Bz_updated[:,:] = 0\n",
    "    \n",
    "    # calculating the interpolation fraction needed for arrayfire's 1D interpolation\n",
    "    \n",
    "    fracs_Ex_x, fracs_Ex_y = fraction_finder(positions_x_new, positions_y_new,\\\n",
    "                                             x_right, y_grid, dx, dy\\\n",
    "                                            )\n",
    "\n",
    "    fracs_Ey_x, fracs_Ey_y = fraction_finder(positions_x_new, positions_y_new,\\\n",
    "                                             x_grid, y_top, dx, dy\\\n",
    "                                            )\n",
    "\n",
    "    fracs_Bz_x, fracs_Bz_y = fraction_finder(positions_x_new, positions_y_new,\\\n",
    "                                             x_right, y_top, dx, dy\\\n",
    "                                            )\n",
    "\n",
    "\n",
    "    # Interpolating the fields at particle locations\n",
    "    \n",
    "    Ex_particle = af.signal.approx2(Ex_updated, fracs_Ex_y, fracs_Ex_x)\n",
    "\n",
    "    Ey_particle = af.signal.approx2(Ey_updated, fracs_Ey_y, fracs_Ey_x)\n",
    "    \n",
    "    # Computing the interpolated magnetic field at t = (n+1)*dt to push v((n+1/2) * dt)\n",
    "    \n",
    "    Bz_particle = af.signal.approx2((Bz_updated + Bz)/2, fracs_Bz_y, fracs_Bz_x)\n",
    "\n",
    "    # Updating the velocity using the interpolated Electric fields\n",
    "\n",
    "    velocity_x_new, velocity_y_new = Boris( charge_electron, mass_electron,\\\n",
    "                                            velocity_x, velocity_y, dt,\\\n",
    "                                            Ex_particle, Ey_particle, Bz_particle\\\n",
    "                                          )\n",
    "\n",
    "    # Saving the Electric fields for plotting\n",
    "\n",
    "    Ex_max[time_index]       = (af.max(af.abs(Ex[ghost_cells:-ghost_cells,\\\n",
    "                                                 ghost_cells:-ghost_cells]\\\n",
    "                                             )\\\n",
    "                                      )\\\n",
    "                               )\n",
    "    \n",
    "    Ey_max[time_index]       = (af.max(af.abs(Ey[ghost_cells:-ghost_cells,\\\n",
    "                                                 ghost_cells:-ghost_cells]\\\n",
    "                                             )\\\n",
    "                                      )\\\n",
    "                               )\n",
    "    \n",
    "    # Saving the updated velocites for the next timestep\n",
    "    velocity_x  = velocity_x_new.copy()\n",
    "    positions_x = positions_x_new.copy()\n",
    "    velocity_y  = velocity_y_new.copy()\n",
    "    positions_y = positions_y_new.copy()\n",
    "    Ex          = Ex_updated.copy()\n",
    "    Ey          = Ey_updated.copy()"
   ]
  },
  {
   "cell_type": "markdown",
   "metadata": {},
   "source": [
    "### Comparing the plots from both Linear theory calculations and Electrostatic PIC below"
   ]
  },
  {
   "cell_type": "code",
   "execution_count": null,
   "metadata": {
    "collapsed": false
   },
   "outputs": [],
   "source": [
    "h5f = h5py.File('PIC_2D_CD.h5', 'w')\n",
    "h5f.create_dataset('Ex_amp', data = (Ex_max))\n",
    "h5f.create_dataset('Ey_amp', data = (Ey_max))\n",
    "h5f.close()"
   ]
  },
  {
   "cell_type": "code",
   "execution_count": null,
   "metadata": {
    "collapsed": false
   },
   "outputs": [],
   "source": [
    "# Reading data generated by the Cheng Knorr code\n",
    "h5f = h5py.File('CK_256.h5', 'r')\n",
    "Ex_max_CK = h5f['max_E'][:]\n",
    "h5f.close()\n",
    "time_CK = np.linspace(0,time[-1], len(Ex_max_CK))"
   ]
  },
  {
   "cell_type": "code",
   "execution_count": null,
   "metadata": {
    "collapsed": false
   },
   "outputs": [],
   "source": [
    "time_grid = np.linspace(0, time[-1], len(Ex_max))\n",
    "pl.plot(time_grid, Ex_max , label = r'$\\mathrm{PIC}$')\n",
    "# pl.plot(time_LT, Ex_max_LT,'--',lw = 3,label = '$\\mathrm{LT}$')\n",
    "pl.plot(time_CK, Ex_max_CK, label = '$\\mathrm{Cheng\\;Knorr}$')\n",
    "# print('(abs(Ex_amplitude[0])) is ',(abs(Ex_amplitude[0])))\n",
    "# print('(abs(Ex_max[0])) is ',(abs(Ex_max[0])))\n",
    "pl.xlabel('$t$')\n",
    "pl.ylabel('$\\mathrm{MAX}(|E_{x}|)$')\n",
    "pl.legend()\n",
    "pl.show()\n",
    "pl.savefig('MaxE.png')\n",
    "pl.clf()"
   ]
  },
  {
   "cell_type": "code",
   "execution_count": null,
   "metadata": {
    "collapsed": false
   },
   "outputs": [],
   "source": [
    "pl.semilogy(time_grid, Ex_max ,label = r'$\\mathrm{PIC}$')\n",
    "# pl.semilogy(time_LT, Ex_max_LT,'--',lw = 3,label = '$\\mathrm{LT}$')\n",
    "pl.semilogy(time_CK,Ex_max_CK, label = '$\\mathrm{Cheng\\;Knorr}$')\n",
    "pl.legend()\n",
    "pl.xlabel('$t$')\n",
    "pl.ylabel('$\\mathrm{MAX}(|E_{x}|)$')\n",
    "pl.show()\n",
    "pl.savefig('MaxE_semilogy.png')\n",
    "pl.clf()"
   ]
  },
  {
   "cell_type": "code",
   "execution_count": null,
   "metadata": {
    "collapsed": false
   },
   "outputs": [],
   "source": [
    "pl.loglog(time_grid, Ex_max ,label = r'$\\mathrm{PIC}$')\n",
    "# pl.loglog(time_LT, Ex_max_LT,'--',lw = 3,label = '$\\mathrm{LT}$')\n",
    "pl.semilogy(time_CK,Ex_max_CK, label = '$\\mathrm{Cheng\\;Knorr}$')\n",
    "pl.legend()\n",
    "pl.xlabel('$t$')\n",
    "pl.ylabel('$\\mathrm{MAX}(|E_{x}|)$')\n",
    "pl.show()\n",
    "pl.savefig('MaxE_loglog.png')\n",
    "pl.clf()"
   ]
  },
  {
   "cell_type": "code",
   "execution_count": null,
   "metadata": {
    "collapsed": true
   },
   "outputs": [],
   "source": []
  },
  {
   "cell_type": "markdown",
   "metadata": {
    "collapsed": true
   },
   "source": []
  }
 ],
 "metadata": {
  "anaconda-cloud": {},
  "kernelspec": {
   "display_name": "Python 3",
   "language": "python",
   "name": "python3"
  },
  "language_info": {
   "codemirror_mode": {
    "name": "ipython",
    "version": 3
   },
   "file_extension": ".py",
   "mimetype": "text/x-python",
   "name": "python",
   "nbconvert_exporter": "python",
   "pygments_lexer": "ipython3",
   "version": "3.6.0"
  }
 },
 "nbformat": 4,
 "nbformat_minor": 2
}
